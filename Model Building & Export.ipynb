{
 "cells": [
  {
   "cell_type": "code",
   "execution_count": null,
   "metadata": {},
   "outputs": [],
   "source": [
    "import pickle as pkl\n",
    "import pandas as pd\n",
    "import numpy as np\n",
    "from sklearn.linear_model import LogisticRegression\n",
    "from sklearn.linear_model import Lasso\n",
    "from sklearn.preprocessing import StandardScaler\n",
    "from sklearn.model_selection import train_test_split"
   ]
  },
  {
   "cell_type": "code",
   "execution_count": null,
   "metadata": {},
   "outputs": [],
   "source": [
    "# Reading final_train dataset that will be used in modelling\n",
    "final_train = pd.read_csv('final_train.csv',index_col ='SK_ID_CURR' )\n",
    "display(final_train.head())"
   ]
  },
  {
   "cell_type": "code",
   "execution_count": null,
   "metadata": {},
   "outputs": [],
   "source": [
    "# Splitting the data to train and test set\n",
    "X = final_train.drop('TARGET',axis=1)\n",
    "y = final_train['TARGET']\n",
    "X_train, X_test, y_train, y_test = train_test_split(X, y, test_size=0.3, random_state=42)\n",
    "print('X_train shape:', X_train.shape,'\\n'\n",
    "      'X_test shape:', X_test.shape,'\\n'\n",
    "      'y_train shape:', y_train.shape,'\\n'\n",
    "      'y_test shape:', y_test.shape)"
   ]
  },
  {
   "cell_type": "code",
   "execution_count": null,
   "metadata": {},
   "outputs": [],
   "source": [
    "# Calling scaler\n",
    "scaler = StandardScaler()\n",
    "\n",
    "# Calling logistic regression model\n",
    "log_reg = LogisticRegression(max_iter = 1000,class_weight='balanced')\n",
    "# Fitting the model to X_train and y_train\n",
    "log_reg.fit(scaler.fit_transform(X_train),y_train)"
   ]
  }
 ],
 "metadata": {
  "kernelspec": {
   "display_name": "Python 3",
   "language": "python",
   "name": "python3"
  },
  "language_info": {
   "codemirror_mode": {
    "name": "ipython",
    "version": 3
   },
   "file_extension": ".py",
   "mimetype": "text/x-python",
   "name": "python",
   "nbconvert_exporter": "python",
   "pygments_lexer": "ipython3",
   "version": "3.7.6"
  }
 },
 "nbformat": 4,
 "nbformat_minor": 4
}
